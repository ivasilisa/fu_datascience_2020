{
 "cells": [
  {
   "cell_type": "markdown",
   "metadata": {},
   "source": [
    "### Ex 1"
   ]
  },
  {
   "cell_type": "code",
   "execution_count": 2,
   "metadata": {},
   "outputs": [],
   "source": [
    "import numpy as np\n",
    "import matplotlib.pylab as plt"
   ]
  },
  {
   "cell_type": "code",
   "execution_count": 3,
   "metadata": {},
   "outputs": [],
   "source": [
    "x = np.random.randint(low=1,high=7,size=10_000_000) # simulated model of a fair dice "
   ]
  },
  {
   "cell_type": "code",
   "execution_count": 4,
   "metadata": {},
   "outputs": [
    {
     "data": {
      "image/png": "[encoded data removed]",
      "text/plain": [
       "<Figure size 432x288 with 1 Axes>"
      ]
     },
     "metadata": {
      "needs_background": "light"
     },
     "output_type": "display_data"
    }
   ],
   "source": [
    "plt.hist(x, bins=np.arange(2, 14)/2)\n",
    "plt.show()"
   ]
  },
  {
   "cell_type": "code",
   "execution_count": 30,
   "metadata": {},
   "outputs": [],
   "source": [
    "A = [2,4,6] #two events\n",
    "B = [1,2,3,4]"
   ]
  },
  {
   "cell_type": "code",
   "execution_count": 31,
   "metadata": {},
   "outputs": [],
   "source": [
    "p_a = 0\n",
    "p_b = 0\n",
    "p_ab = 0"
   ]
  },
  {
   "cell_type": "code",
   "execution_count": 32,
   "metadata": {},
   "outputs": [
    {
     "name": "stdout",
     "output_type": "stream",
     "text": [
      "P(A) = 0.5000289\n",
      "P(B) = 0.666817\n",
      "P(A&B) = 0.3332764\n",
      "P(A)*P(B) = 0.3334277710113\n"
     ]
    }
   ],
   "source": [
    "for i in x:\n",
    "    if i in A:\n",
    "        p_a += 1\n",
    "    if i in B:\n",
    "        p_b +=1\n",
    "    if (i in A) & (i in B):\n",
    "        p_ab +=1\n",
    "p_a/=len(x)\n",
    "p_b/=len(x)\n",
    "p_ab/=len(x)\n",
    "print(f\"P(A) = {p_a}\")  \n",
    "print(f\"P(B) = {p_b}\")\n",
    "print(f\"P(A&B) = {p_ab}\")\n",
    "\n",
    "print(f\"P(A)*P(B) = {p_a*p_b}\")"
   ]
  },
  {
   "cell_type": "markdown",
   "metadata": {},
   "source": [
    "### Ex 2"
   ]
  },
  {
   "cell_type": "code",
   "execution_count": 5,
   "metadata": {},
   "outputs": [],
   "source": [
    "y = np.random.randint(low=1,high=7,size=100000) # simulation model of a fair dice"
   ]
  },
  {
   "cell_type": "code",
   "execution_count": 6,
   "metadata": {},
   "outputs": [
    {
     "data": {
      "image/png": "[encoded data removed]",
      "text/plain": [
       "<Figure size 432x288 with 1 Axes>"
      ]
     },
     "metadata": {
      "needs_background": "light"
     },
     "output_type": "display_data"
    }
   ],
   "source": [
    "plt.hist(y, bins=np.arange(2, 14)/2)\n",
    "plt.show()"
   ]
  },
  {
   "cell_type": "code",
   "execution_count": 61,
   "metadata": {},
   "outputs": [],
   "source": [
    "A = [5] #dependent events \n",
    "B = [5,6]"
   ]
  },
  {
   "cell_type": "code",
   "execution_count": 62,
   "metadata": {},
   "outputs": [],
   "source": [
    "p_a = 0\n",
    "p_b = 0\n",
    "p_ab = 0"
   ]
  },
  {
   "cell_type": "code",
   "execution_count": 63,
   "metadata": {},
   "outputs": [
    {
     "name": "stdout",
     "output_type": "stream",
     "text": [
      "P(A) = 0.16917\n",
      "P(B) = 0.33699\n",
      "P(A&B) = 0.16917\n",
      "P(A)*P(B) = 0.0570085983\n"
     ]
    }
   ],
   "source": [
    "for i in y:\n",
    "    if i in A:\n",
    "        p_a += 1\n",
    "    if i in B:\n",
    "        p_b += 1\n",
    "    if (i in A) & (i in B):\n",
    "        p_ab += 1\n",
    "p_a/=len(y)\n",
    "p_b/=len(y)\n",
    "p_ab/=len(y)\n",
    "print(f\"P(A) = {p_a}\")\n",
    "print(f\"P(B) = {p_b}\")\n",
    "print(f\"P(A&B) = {p_ab}\")\n",
    "\n",
    "print(f\"P(A)*P(B) = {p_a*p_b}\")"
   ]
  },
  {
   "cell_type": "code",
   "execution_count": 64,
   "metadata": {},
   "outputs": [
    {
     "name": "stdout",
     "output_type": "stream",
     "text": [
      "P(A|B) = 0.5020030267960474\n",
      "P(B|A) = 1.0\n"
     ]
    }
   ],
   "source": [
    "print(f\"P(A|B) = {p_ab/p_b}\")\n",
    "print(f\"P(B|A) = {p_ab/p_a}\")"
   ]
  },
  {
   "cell_type": "markdown",
   "metadata": {},
   "source": [
    "### Ex 3"
   ]
  },
  {
   "cell_type": "code",
   "execution_count": 82,
   "metadata": {},
   "outputs": [],
   "source": [
    "p_a = 0\n",
    "p_b = 0\n",
    "p_c = 0"
   ]
  },
  {
   "cell_type": "code",
   "execution_count": 85,
   "metadata": {},
   "outputs": [
    {
     "name": "stdout",
     "output_type": "stream",
     "text": [
      "P(A) = 0.499085010489\n",
      "P(B) = 0.498665007523\n",
      "P(C) = 0.49874499152199997\n"
     ]
    }
   ],
   "source": [
    "n = 100000\n",
    "for i in range(n):\n",
    "    t1 = np.random.randint(low=1,high=3,size=1)[0] # first toss\n",
    "    t2 = np.random.randint(low=1,high=3,size=1)[0] # second toss\n",
    "    if t1 == 1:\n",
    "        p_a += 1\n",
    "    if t2 == 1:\n",
    "        p_b += 1\n",
    "    if t1 == t2:\n",
    "        p_c += 1\n",
    "p_a/=n\n",
    "p_b/=n\n",
    "p_c/=n\n",
    "print(f\"P(A) = {p_a}\")\n",
    "print(f\"P(B) = {p_b}\")\n",
    "print(f\"P(C) = {p_c}\")       "
   ]
  },
  {
   "cell_type": "code",
   "execution_count": null,
   "metadata": {},
   "outputs": [],
   "source": []
  },
  {
   "cell_type": "code",
   "execution_count": null,
   "metadata": {},
   "outputs": [],
   "source": []
  }
 ],
 "metadata": {
  "kernelspec": {
   "display_name": "Python 3",
   "language": "python",
   "name": "python3"
  },
  "language_info": {
   "codemirror_mode": {
    "name": "ipython",
    "version": 3
   },
   "file_extension": ".py",
   "mimetype": "text/x-python",
   "name": "python",
   "nbconvert_exporter": "python",
   "pygments_lexer": "ipython3",
   "version": "3.8.0"
  }
 },
 "nbformat": 4,
 "nbformat_minor": 4
}
